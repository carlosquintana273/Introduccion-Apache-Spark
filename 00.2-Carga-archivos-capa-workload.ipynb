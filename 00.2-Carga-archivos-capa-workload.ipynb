{
  "nbformat": 4,
  "nbformat_minor": 0,
  "metadata": {
    "colab": {
      "name": "Sesion 03 - Python_with_Cloud_Storage.ipynb",
      "provenance": [],
      "collapsed_sections": []
    },
    "kernelspec": {
      "name": "python3",
      "display_name": "Python 3"
    },
    "language_info": {
      "name": "python"
    }
  },
  "cells": [
    {
      "cell_type": "code",
      "metadata": {
        "id": "4UXHnm8AlAyb"
      },
      "source": [
        "import os\n",
        "from pprint import pprint\n",
        "from google.cloud import storage\n",
        "\n",
        "os.environ['GOOGLE_APPLICATION_CREDENTIALS'] = r'accesos-gcp.json'\n",
        "\n",
        "storage_client = storage.Client()"
      ],
      "execution_count": null,
      "outputs": []
    },
    {
      "cell_type": "code",
      "metadata": {
        "colab": {
          "base_uri": "https://localhost:8080/"
        },
        "id": "1uHyr5u3lI35",
        "outputId": "4de5fbd9-3602-4c93-d07b-80b41a5418a4"
      },
      "source": [
        "for bucket in storage_client.list_buckets(max_results=100):\n",
        "    print(bucket)"
      ],
      "execution_count": null,
      "outputs": [
        {
          "output_type": "stream",
          "name": "stdout",
          "text": [
            "<Bucket: clase0302-dmc>\n",
            "<Bucket: clase_03_bi_cloud>\n"
          ]
        }
      ]
    },
    {
      "cell_type": "code",
      "metadata": {
        "colab": {
          "base_uri": "https://localhost:8080/",
          "height": 480
        },
        "id": "zeGojy7smHr8",
        "outputId": "fc6754e4-8cb6-49f7-ac30-f3aa509f622e"
      },
      "source": [
        "bucket_name = 'datalake-sesion03-bi-jmsp'\n",
        "\n",
        "# create a new bucket\n",
        "bucket = storage_client.bucket(bucket_name)\n",
        "bucket.storage_class = 'STANDARD' # Archive | Nearline | Standard https://cloud.google.com/storage/docs/storage-classes\n",
        "bucket.location = 'US' # https://cloud.google.com/storage/docs/locations\n",
        "bucket = storage_client.create_bucket(bucket) # returns Bucket object\n",
        "\n",
        "pprint(vars(bucket))\n",
        "\n",
        "bucket.name\n",
        "bucket._properties['selfLink']\n",
        "bucket._properties['id']\n",
        "bucket._properties['location']\n",
        "bucket._properties['timeCreated']\n",
        "bucket._properties['storageClass']\n",
        "bucket._properties['timeCreated']\n",
        "bucket._properties['updated']"
      ],
      "execution_count": null,
      "outputs": [
        {
          "output_type": "stream",
          "name": "stderr",
          "text": [
            "/usr/local/lib/python3.7/dist-packages/ipykernel_launcher.py:6: DeprecationWarning: Assignment to 'Bucket.location' is deprecated, as it is only valid before the bucket is created. Instead, pass the location to `Bucket.create`.\n",
            "  \n"
          ]
        },
        {
          "output_type": "stream",
          "name": "stdout",
          "text": [
            "{'_acl': <google.cloud.storage.acl.BucketACL object at 0x7fdee6702550>,\n",
            " '_changes': set(),\n",
            " '_client': <google.cloud.storage.client.Client object at 0x7fdee7e185d0>,\n",
            " '_default_object_acl': <google.cloud.storage.acl.DefaultObjectACL object at 0x7fdee67020d0>,\n",
            " '_label_removals': set(),\n",
            " '_properties': {'etag': 'CAE=',\n",
            "                 'iamConfiguration': {'bucketPolicyOnly': {'enabled': False},\n",
            "                                      'publicAccessPrevention': 'unspecified',\n",
            "                                      'uniformBucketLevelAccess': {'enabled': False}},\n",
            "                 'id': 'datalake-sesion03-bi-jmsp',\n",
            "                 'kind': 'storage#bucket',\n",
            "                 'location': 'US',\n",
            "                 'locationType': 'multi-region',\n",
            "                 'metageneration': '1',\n",
            "                 'name': 'datalake-sesion03-bi-jmsp',\n",
            "                 'projectNumber': '1009714521891',\n",
            "                 'rpo': 'DEFAULT',\n",
            "                 'selfLink': 'https://www.googleapis.com/storage/v1/b/datalake-sesion03-bi-jmsp',\n",
            "                 'storageClass': 'STANDARD',\n",
            "                 'timeCreated': '2021-11-10T02:48:30.605Z',\n",
            "                 'updated': '2021-11-10T02:48:30.605Z'},\n",
            " '_user_project': None,\n",
            " 'name': 'datalake-sesion03-bi-jmsp'}\n"
          ]
        },
        {
          "output_type": "execute_result",
          "data": {
            "application/vnd.google.colaboratory.intrinsic+json": {
              "type": "string"
            },
            "text/plain": [
              "'2021-11-10T02:48:30.605Z'"
            ]
          },
          "metadata": {},
          "execution_count": 3
        }
      ]
    },
    {
      "cell_type": "code",
      "metadata": {
        "colab": {
          "base_uri": "https://localhost:8080/"
        },
        "id": "E8f7HGJpnPbU",
        "outputId": "dec6a0cc-4aeb-494d-b463-f08fe2999168"
      },
      "source": [
        "\"\"\"\n",
        "Get Bucket\n",
        "\"\"\"\n",
        "my_bucket = storage_client.get_bucket(bucket_name)\n",
        "pprint(vars(my_bucket))"
      ],
      "execution_count": null,
      "outputs": [
        {
          "output_type": "stream",
          "name": "stdout",
          "text": [
            "{'_acl': <google.cloud.storage.acl.BucketACL object at 0x7fdee62aa450>,\n",
            " '_changes': set(),\n",
            " '_client': <google.cloud.storage.client.Client object at 0x7fdee7e185d0>,\n",
            " '_default_object_acl': <google.cloud.storage.acl.DefaultObjectACL object at 0x7fdee62aa350>,\n",
            " '_label_removals': set(),\n",
            " '_properties': {'etag': 'CAE=',\n",
            "                 'iamConfiguration': {'bucketPolicyOnly': {'enabled': False},\n",
            "                                      'publicAccessPrevention': 'unspecified',\n",
            "                                      'uniformBucketLevelAccess': {'enabled': False}},\n",
            "                 'id': 'datalake-sesion03-bi-jmsp',\n",
            "                 'kind': 'storage#bucket',\n",
            "                 'location': 'US',\n",
            "                 'locationType': 'multi-region',\n",
            "                 'metageneration': '1',\n",
            "                 'name': 'datalake-sesion03-bi-jmsp',\n",
            "                 'projectNumber': '1009714521891',\n",
            "                 'rpo': 'DEFAULT',\n",
            "                 'selfLink': 'https://www.googleapis.com/storage/v1/b/datalake-sesion03-bi-jmsp',\n",
            "                 'storageClass': 'STANDARD',\n",
            "                 'timeCreated': '2021-11-10T02:48:30.605Z',\n",
            "                 'updated': '2021-11-10T02:48:30.605Z'},\n",
            " '_user_project': None,\n",
            " 'name': 'datalake-sesion03-bi-jmsp'}\n"
          ]
        }
      ]
    },
    {
      "cell_type": "code",
      "metadata": {
        "id": "pTGLrVgRnVzq"
      },
      "source": [
        "# lineas de codigo que se conectan al motor de base\n",
        "\"\"\"\n",
        "Upload File\n",
        "\"\"\"\n",
        "def upload_to_bucket(blob_name, file_path, bucket_name):\n",
        "    '''\n",
        "    Upload file to a bucket\n",
        "    : blob_name  (str) - object name\n",
        "    : file_path (str)\n",
        "    : bucket_name (str)\n",
        "    '''\n",
        "    bucket = storage_client.get_bucket(bucket_name)\n",
        "    blob = bucket.blob(blob_name)\n",
        "    blob.upload_from_filename(file_path)\n",
        "    return blob\n",
        "bucket_name = 'datalake-sesion03-bi-jmsp'\n",
        "response = upload_to_bucket('raw/operacion/Discounts-11092021.csv', './Discounts.csv', bucket_name)\n",
        "# response = upload_to_bucket('/docs/requirementABC', 'requirements.txt', bucket_name)"
      ],
      "execution_count": null,
      "outputs": []
    },
    {
      "cell_type": "code",
      "metadata": {
        "id": "ojkpY203y7rQ"
      },
      "source": [
        "!cd /content"
      ],
      "execution_count": null,
      "outputs": []
    },
    {
      "cell_type": "code",
      "metadata": {
        "colab": {
          "base_uri": "https://localhost:8080/"
        },
        "id": "rsgUr_CM2_WR",
        "outputId": "d7bc0879-3d64-4e45-e607-7a64eb85b55f"
      },
      "source": [
        "\"\"\"\n",
        "Download File By Blob Name\n",
        "\"\"\"\n",
        "def download_file_from_bucket(blog_name, file_path, bucket_name):\n",
        "    bucket = storage_client.get_bucket(bucket_name)\n",
        "    blob = bucket.blob(blog_name)\n",
        "    with open(file_path, 'wb') as f:\n",
        "        storage_client.download_blob_to_file(blob, f)\n",
        "    print('Saved')\n",
        "\n",
        "download_file_from_bucket('raw/operacion/Discounts-11092021.csv', './Discounts_desgado.csv', bucket_name)"
      ],
      "execution_count": null,
      "outputs": [
        {
          "output_type": "stream",
          "name": "stdout",
          "text": [
            "Saved\n"
          ]
        }
      ]
    },
    {
      "cell_type": "code",
      "metadata": {
        "colab": {
          "base_uri": "https://localhost:8080/"
        },
        "id": "hyhHuC_h4cf7",
        "outputId": "4948bfbb-fa0e-4afd-d47a-8e64fd6129ab"
      },
      "source": [
        "\"\"\"\n",
        "Download File By Passing URI Path\n",
        "\"\"\"\n",
        "def download_file_uri(uri, file_path):\n",
        "    with open(file_path, 'wb') as f:\n",
        "        storage_client.download_blob_to_file(uri, f)\n",
        "    print('Saved')\n",
        "\n",
        "uri = 'gs://datalake-sesion03-bi-jmsp/raw/operacion/Discounts-11092021.csv'\n",
        "download_file_uri(uri, './Discounts_uri.csv')"
      ],
      "execution_count": null,
      "outputs": [
        {
          "output_type": "stream",
          "name": "stdout",
          "text": [
            "Saved\n"
          ]
        }
      ]
    }
  ]
}