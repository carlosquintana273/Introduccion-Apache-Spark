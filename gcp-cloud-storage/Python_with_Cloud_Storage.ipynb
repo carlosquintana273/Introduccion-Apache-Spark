{
  "nbformat": 4,
  "nbformat_minor": 0,
  "metadata": {
    "colab": {
      "name": "Python_with_Cloud_Storage.ipynb",
      "provenance": [],
      "collapsed_sections": []
    },
    "kernelspec": {
      "name": "python3",
      "display_name": "Python 3"
    },
    "language_info": {
      "name": "python"
    }
  },
  "cells": [
    {
      "cell_type": "code",
      "metadata": {
        "id": "4UXHnm8AlAyb"
      },
      "source": [
        "import os\n",
        "from pprint import pprint\n",
        "from google.cloud import storage\n",
        "\n",
        "os.environ['GOOGLE_APPLICATION_CREDENTIALS'] = r'ServiceKey_GoogleCloud.json'\n",
        "\n",
        "storage_client = storage.Client()"
      ],
      "execution_count": 4,
      "outputs": []
    },
    {
      "cell_type": "code",
      "metadata": {
        "colab": {
          "base_uri": "https://localhost:8080/"
        },
        "id": "1uHyr5u3lI35",
        "outputId": "68033f95-1067-4240-f0b7-9e398702a3c3"
      },
      "source": [
        "for bucket in storage_client.list_buckets(max_results=100):\n",
        "    print(bucket)"
      ],
      "execution_count": 7,
      "outputs": [
        {
          "output_type": "stream",
          "name": "stdout",
          "text": [
            "<Bucket: bicloud-dmc-fpfl>\n",
            "<Bucket: bicloud-dmc-jmsp>\n"
          ]
        }
      ]
    },
    {
      "cell_type": "code",
      "metadata": {
        "colab": {
          "base_uri": "https://localhost:8080/",
          "height": 475
        },
        "id": "zeGojy7smHr8",
        "outputId": "8cf20468-15b7-486b-805f-73626dbf1170"
      },
      "source": [
        "bucket_name = 'datalake-dmc-jsmp'\n",
        "\n",
        "# create a new bucket\n",
        "bucket = storage_client.bucket(bucket_name)\n",
        "bucket.storage_class = 'STANDARD' # Archive | Nearline | Standard https://cloud.google.com/storage/docs/storage-classes\n",
        "bucket.location = 'US' # https://cloud.google.com/storage/docs/locations\n",
        "bucket = storage_client.create_bucket(bucket) # returns Bucket object\n",
        "\n",
        "pprint(vars(bucket))\n",
        "\n",
        "bucket.name\n",
        "bucket._properties['selfLink']\n",
        "bucket._properties['id']\n",
        "bucket._properties['location']\n",
        "bucket._properties['timeCreated']\n",
        "bucket._properties['storageClass']\n",
        "bucket._properties['timeCreated']\n",
        "bucket._properties['updated']"
      ],
      "execution_count": 10,
      "outputs": [
        {
          "output_type": "stream",
          "name": "stderr",
          "text": [
            "/usr/local/lib/python3.7/dist-packages/ipykernel_launcher.py:6: DeprecationWarning: Assignment to 'Bucket.location' is deprecated, as it is only valid before the bucket is created. Instead, pass the location to `Bucket.create`.\n",
            "  \n"
          ]
        },
        {
          "output_type": "stream",
          "name": "stdout",
          "text": [
            "{'_acl': <google.cloud.storage.acl.BucketACL object at 0x7fb0466c40d0>,\n",
            " '_changes': set(),\n",
            " '_client': <google.cloud.storage.client.Client object at 0x7fb046bc11d0>,\n",
            " '_default_object_acl': <google.cloud.storage.acl.DefaultObjectACL object at 0x7fb0466c4090>,\n",
            " '_label_removals': set(),\n",
            " '_properties': {'etag': 'CAE=',\n",
            "                 'iamConfiguration': {'bucketPolicyOnly': {'enabled': False},\n",
            "                                      'publicAccessPrevention': 'unspecified',\n",
            "                                      'uniformBucketLevelAccess': {'enabled': False}},\n",
            "                 'id': 'datalake-dmc-jsmp',\n",
            "                 'kind': 'storage#bucket',\n",
            "                 'location': 'US',\n",
            "                 'locationType': 'multi-region',\n",
            "                 'metageneration': '1',\n",
            "                 'name': 'datalake-dmc-jsmp',\n",
            "                 'projectNumber': '338268631438',\n",
            "                 'rpo': 'DEFAULT',\n",
            "                 'selfLink': 'https://www.googleapis.com/storage/v1/b/datalake-dmc-jsmp',\n",
            "                 'storageClass': 'STANDARD',\n",
            "                 'timeCreated': '2021-11-09T02:52:02.637Z',\n",
            "                 'updated': '2021-11-09T02:52:02.637Z'},\n",
            " '_user_project': None,\n",
            " 'name': 'datalake-dmc-jsmp'}\n"
          ]
        },
        {
          "output_type": "execute_result",
          "data": {
            "application/vnd.google.colaboratory.intrinsic+json": {
              "type": "string"
            },
            "text/plain": [
              "'2021-11-09T02:52:02.637Z'"
            ]
          },
          "metadata": {},
          "execution_count": 10
        }
      ]
    },
    {
      "cell_type": "code",
      "metadata": {
        "colab": {
          "base_uri": "https://localhost:8080/"
        },
        "id": "E8f7HGJpnPbU",
        "outputId": "3977aa8f-30fc-49e3-83e1-c0ad2d84ac9c"
      },
      "source": [
        "\"\"\"\n",
        "Get Bucket\n",
        "\"\"\"\n",
        "my_bucket = storage_client.get_bucket(bucket_name)\n",
        "pprint(vars(my_bucket))"
      ],
      "execution_count": 11,
      "outputs": [
        {
          "output_type": "stream",
          "name": "stdout",
          "text": [
            "{'_acl': <google.cloud.storage.acl.BucketACL object at 0x7fb0466d1410>,\n",
            " '_changes': set(),\n",
            " '_client': <google.cloud.storage.client.Client object at 0x7fb046bc11d0>,\n",
            " '_default_object_acl': <google.cloud.storage.acl.DefaultObjectACL object at 0x7fb046ba5450>,\n",
            " '_label_removals': set(),\n",
            " '_properties': {'etag': 'CAE=',\n",
            "                 'iamConfiguration': {'bucketPolicyOnly': {'enabled': False},\n",
            "                                      'publicAccessPrevention': 'unspecified',\n",
            "                                      'uniformBucketLevelAccess': {'enabled': False}},\n",
            "                 'id': 'datalake-dmc-jsmp',\n",
            "                 'kind': 'storage#bucket',\n",
            "                 'location': 'US',\n",
            "                 'locationType': 'multi-region',\n",
            "                 'metageneration': '1',\n",
            "                 'name': 'datalake-dmc-jsmp',\n",
            "                 'projectNumber': '338268631438',\n",
            "                 'rpo': 'DEFAULT',\n",
            "                 'selfLink': 'https://www.googleapis.com/storage/v1/b/datalake-dmc-jsmp',\n",
            "                 'storageClass': 'STANDARD',\n",
            "                 'timeCreated': '2021-11-09T02:52:02.637Z',\n",
            "                 'updated': '2021-11-09T02:52:02.637Z'},\n",
            " '_user_project': None,\n",
            " 'name': 'datalake-dmc-jsmp'}\n"
          ]
        }
      ]
    },
    {
      "cell_type": "code",
      "metadata": {
        "id": "pTGLrVgRnVzq"
      },
      "source": [
        "\"\"\"\n",
        "Upload File\n",
        "\"\"\"\n",
        "def upload_to_bucket(blob_name, file_path, bucket_name):\n",
        "    '''\n",
        "    Upload file to a bucket\n",
        "    : blob_name  (str) - object name\n",
        "    : file_path (str)\n",
        "    : bucket_name (str)\n",
        "    '''\n",
        "    bucket = storage_client.get_bucket(bucket_name)\n",
        "    blob = bucket.blob(blob_name)\n",
        "    blob.upload_from_filename(file_path)\n",
        "    return blob\n",
        "\n",
        "response = upload_to_bucket('docs/Discounts_cargado.csv', './Discounts.csv', bucket_name)\n",
        "# response = upload_to_bucket('/docs/requirementABC', 'requirements.txt', bucket_name)"
      ],
      "execution_count": 19,
      "outputs": []
    },
    {
      "cell_type": "code",
      "metadata": {
        "id": "ojkpY203y7rQ"
      },
      "source": [
        "!cd /content"
      ],
      "execution_count": 16,
      "outputs": []
    },
    {
      "cell_type": "code",
      "metadata": {
        "colab": {
          "base_uri": "https://localhost:8080/"
        },
        "id": "rsgUr_CM2_WR",
        "outputId": "303813e4-d6aa-4080-f2c7-b79c202cb136"
      },
      "source": [
        "\"\"\"\n",
        "Download File By Blob Name\n",
        "\"\"\"\n",
        "def download_file_from_bucket(blog_name, file_path, bucket_name):\n",
        "    bucket = storage_client.get_bucket(bucket_name)\n",
        "    blob = bucket.blob(blog_name)\n",
        "    with open(file_path, 'wb') as f:\n",
        "        storage_client.download_blob_to_file(blob, f)\n",
        "    print('Saved')\n",
        "\n",
        "download_file_from_bucket('docs/Discounts_cargado.csv', './Discounts_desgado.csv', bucket_name)"
      ],
      "execution_count": 30,
      "outputs": [
        {
          "output_type": "stream",
          "name": "stdout",
          "text": [
            "Saved\n"
          ]
        }
      ]
    },
    {
      "cell_type": "code",
      "metadata": {
        "colab": {
          "base_uri": "https://localhost:8080/"
        },
        "id": "hyhHuC_h4cf7",
        "outputId": "45c7758f-ad6d-4cdb-f66a-7d3bd9d1e582"
      },
      "source": [
        "\"\"\"\n",
        "Download File By Passing URI Path\n",
        "\"\"\"\n",
        "def download_file_uri(uri, file_path):\n",
        "    with open(file_path, 'wb') as f:\n",
        "        storage_client.download_blob_to_file(uri, f)\n",
        "    print('Saved')\n",
        "\n",
        "uri = 'gs://datalake-dmc-jsmp/docs/Discounts_cargado.csv'\n",
        "download_file_uri(uri, './Discounts_uri.csv')"
      ],
      "execution_count": 31,
      "outputs": [
        {
          "output_type": "stream",
          "name": "stdout",
          "text": [
            "Saved\n"
          ]
        }
      ]
    }
  ]
}